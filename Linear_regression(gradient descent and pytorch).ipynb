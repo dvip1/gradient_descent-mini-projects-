{
 "cells": [
  {
   "cell_type": "markdown",
   "id": "4252f144",
   "metadata": {},
   "source": [
    "Making a Prediction model using Gradient Descent algorithm with pytorch  "
   ]
  },
  {
   "cell_type": "code",
   "execution_count": null,
   "id": "8c94ce4a",
   "metadata": {},
   "outputs": [],
   "source": [
    "#Linear regression using pytorch inbuit-ins \n",
    "import torch.nn as nn\n",
    "import numpy as np\n",
    "import torch"
   ]
  },
  {
   "cell_type": "code",
   "execution_count": 11,
   "id": "5973ff77",
   "metadata": {},
   "outputs": [],
   "source": [
    "inputs = np.array([[73, 67, 43], \n",
    "                   [91, 88, 64], \n",
    "                   [87, 134, 58], \n",
    "                   [102, 43, 37], \n",
    "                   [69, 96, 70], \n",
    "                   [74, 66, 43], \n",
    "                   [91, 87, 65], \n",
    "                   [88, 134, 59], \n",
    "                   [101, 44, 37], \n",
    "                   [68, 96, 71], \n",
    "                   [73, 66, 44], \n",
    "                   [92, 87, 64], \n",
    "                   [87, 135, 57], \n",
    "                   [103, 43, 36], \n",
    "                   [68, 97, 70]], \n",
    "                  dtype='float32')\n",
    "\n",
    "# Targets (apples, oranges)\n",
    "targets = np.array([[56, 70], \n",
    "                    [81, 101], \n",
    "                    [119, 133], \n",
    "                    [22, 37], \n",
    "                    [103, 119],\n",
    "                    [57, 69], \n",
    "                    [80, 102], \n",
    "                    [118, 132], \n",
    "                    [21, 38], \n",
    "                    [104, 118], \n",
    "                    [57, 69], \n",
    "                    [82, 100], \n",
    "                    [118, 134], \n",
    "                    [20, 38], \n",
    "                    [102, 120]], \n",
    "                   dtype='float32')\n",
    "inputs= torch.from_numpy(inputs)\n",
    "targets= torch.from_numpy(targets)"
   ]
  },
  {
   "cell_type": "code",
   "execution_count": 12,
   "id": "4f67c7eb",
   "metadata": {},
   "outputs": [],
   "source": [
    "#Step 1: define TensorDataset and Dataloader \n",
    "from torch.utils.data import TensorDataset, DataLoader \n",
    "train_ds= TensorDataset(inputs, targets)\n",
    "batch_size=5\n",
    "train_dl=DataLoader(train_ds, batch_size , shuffle= True)"
   ]
  },
  {
   "cell_type": "code",
   "execution_count": 13,
   "id": "677761e6",
   "metadata": {},
   "outputs": [
    {
     "name": "stdout",
     "output_type": "stream",
     "text": [
      "tensor([[ 57.1864, -15.8535],\n",
      "        [ 76.8248, -25.3677],\n",
      "        [ 72.7853, -43.0945],\n",
      "        [ 67.2564,   6.7571],\n",
      "        [ 69.7248, -38.9598],\n",
      "        [ 57.6363, -15.0811],\n",
      "        [ 77.3175, -25.3361],\n",
      "        [ 73.7676, -43.0933],\n",
      "        [ 66.8065,   5.9848],\n",
      "        [ 69.7677, -39.7006],\n",
      "        [ 57.6791, -15.8219],\n",
      "        [ 77.2747, -24.5953],\n",
      "        [ 72.2925, -43.1261],\n",
      "        [ 67.2135,   7.4979],\n",
      "        [ 69.2749, -39.7321]], grad_fn=<AddmmBackward0>)\n"
     ]
    }
   ],
   "source": [
    "#step 2: define a model using nn.linear \n",
    "model= nn.Linear(3,2)#cuz It has 3 inputs and it gives 2 output, it makes weights and biases \n",
    "preds= model(inputs) #generate predictions\n",
    "print(preds)"
   ]
  },
  {
   "cell_type": "code",
   "execution_count": 23,
   "id": "8f4dc721",
   "metadata": {},
   "outputs": [],
   "source": [
    "#Step 3: Make a loss function \n",
    "import torch.nn.functional as F \n",
    "loss_fn= F.mse_loss\n",
    "loss= loss_fn(model(inputs), targets)"
   ]
  },
  {
   "cell_type": "code",
   "execution_count": 24,
   "id": "351d0ef9",
   "metadata": {},
   "outputs": [],
   "source": [
    "#Step 4: optimizers\n",
    "opt= torch.optim.SGD(model.parameters(), lr= 1e-5)\n",
    "#Instead of manually manipulating weights and biases of our model, you can use build-in function torch.optim.SGD()"
   ]
  },
  {
   "cell_type": "code",
   "execution_count": 25,
   "id": "b364c9e9",
   "metadata": {},
   "outputs": [
    {
     "data": {
      "text/plain": [
       "[Parameter containing:\n",
       " tensor([[ 0.4698,  0.0199,  0.5126],\n",
       "         [ 0.3710, -0.4013, -0.3698]], requires_grad=True),\n",
       " Parameter containing:\n",
       " tensor([-0.4816, -0.1504], requires_grad=True)]"
      ]
     },
     "execution_count": 25,
     "metadata": {},
     "output_type": "execute_result"
    }
   ],
   "source": [
    "list(model.parameters()) #return all the weight and biases in our model "
   ]
  },
  {
   "cell_type": "code",
   "execution_count": 45,
   "id": "ddf0d3e7",
   "metadata": {},
   "outputs": [],
   "source": [
    "def fit(num_epochs, model, loss_fn, opt, train_dl):\n",
    "    for epoch in range(num_epochs):\n",
    "        for xb, yb, in train_dl:\n",
    "            preds= model(xb)\n",
    "            loss= loss_fn(preds, yb)\n",
    "            loss.backward()\n",
    "            opt.step()# update the parameters\n",
    "            opt.zero_grad()\n",
    "        print('Epoch [{}/{}], Loss: {:.4f}'.format(epoch+1, num_epochs, loss.item()))"
   ]
  },
  {
   "cell_type": "code",
   "execution_count": 46,
   "id": "9d6ce0df",
   "metadata": {},
   "outputs": [
    {
     "name": "stdout",
     "output_type": "stream",
     "text": [
      "Epoch [1/5], Loss: 8.6644\n",
      "Epoch [2/5], Loss: 11.2213\n",
      "Epoch [3/5], Loss: 7.9318\n",
      "Epoch [4/5], Loss: 14.2725\n",
      "Epoch [5/5], Loss: 16.4757\n"
     ]
    }
   ],
   "source": [
    "fit(5, model, loss_fn, opt, train_dl)"
   ]
  },
  {
   "cell_type": "code",
   "execution_count": 47,
   "id": "496ce36b",
   "metadata": {},
   "outputs": [
    {
     "data": {
      "text/plain": [
       "tensor([[ 56.,  70.],\n",
       "        [ 81., 101.],\n",
       "        [119., 133.],\n",
       "        [ 22.,  37.],\n",
       "        [103., 119.],\n",
       "        [ 57.,  69.],\n",
       "        [ 80., 102.],\n",
       "        [118., 132.],\n",
       "        [ 21.,  38.],\n",
       "        [104., 118.],\n",
       "        [ 57.,  69.],\n",
       "        [ 82., 100.],\n",
       "        [118., 134.],\n",
       "        [ 20.,  38.],\n",
       "        [102., 120.]])"
      ]
     },
     "execution_count": 47,
     "metadata": {},
     "output_type": "execute_result"
    }
   ],
   "source": [
    "targets"
   ]
  },
  {
   "cell_type": "markdown",
   "id": "629c6b1c",
   "metadata": {},
   "source": [
    "As so you can see our model is finally performing better, and can predict with accuracy"
   ]
  },
  {
   "cell_type": "code",
   "execution_count": 50,
   "id": "18b9f144",
   "metadata": {},
   "outputs": [
    {
     "data": {
      "text/plain": [
       "tensor([[ 57.1864, -15.8535],\n",
       "        [ 76.8248, -25.3677],\n",
       "        [ 72.7853, -43.0945],\n",
       "        [ 67.2564,   6.7571],\n",
       "        [ 69.7248, -38.9598],\n",
       "        [ 57.6363, -15.0811],\n",
       "        [ 77.3175, -25.3361],\n",
       "        [ 73.7676, -43.0933],\n",
       "        [ 66.8065,   5.9848],\n",
       "        [ 69.7677, -39.7006],\n",
       "        [ 57.6791, -15.8219],\n",
       "        [ 77.2747, -24.5953],\n",
       "        [ 72.2925, -43.1261],\n",
       "        [ 67.2135,   7.4979],\n",
       "        [ 69.2749, -39.7321]], grad_fn=<AddmmBackward0>)"
      ]
     },
     "execution_count": 50,
     "metadata": {},
     "output_type": "execute_result"
    }
   ],
   "source": [
    "preds"
   ]
  }
 ],
 "metadata": {
  "kernelspec": {
   "display_name": "Python 3 (ipykernel)",
   "language": "python",
   "name": "python3"
  },
  "language_info": {
   "codemirror_mode": {
    "name": "ipython",
    "version": 3
   },
   "file_extension": ".py",
   "mimetype": "text/x-python",
   "name": "python",
   "nbconvert_exporter": "python",
   "pygments_lexer": "ipython3",
   "version": "3.10.5"
  }
 },
 "nbformat": 4,
 "nbformat_minor": 5
}
